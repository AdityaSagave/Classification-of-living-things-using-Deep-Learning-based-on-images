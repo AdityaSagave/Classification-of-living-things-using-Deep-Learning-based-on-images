{
  "nbformat": 4,
  "nbformat_minor": 0,
  "metadata": {
    "colab": {
      "provenance": []
    },
    "kernelspec": {
      "name": "python3",
      "display_name": "Python 3"
    },
    "language_info": {
      "name": "python"
    }
  },
  "cells": [
    {
      "cell_type": "markdown",
      "source": [
        "#Coarse section"
      ],
      "metadata": {
        "id": "s6z7c7nI5PCe"
      }
    },
    {
      "cell_type": "code",
      "execution_count": null,
      "metadata": {
        "colab": {
          "base_uri": "https://localhost:8080/"
        },
        "id": "DWwOYFLYYlVQ",
        "outputId": "ce043d5f-b78c-4573-a263-b57ac9c18141"
      },
      "outputs": [
        {
          "output_type": "stream",
          "name": "stdout",
          "text": [
            "Mounted at /gdrive\n"
          ]
        }
      ],
      "source": [
        "from google.colab import drive\n",
        "drive.mount('/gdrive')"
      ]
    },
    {
      "cell_type": "code",
      "source": [
        "# Your file will probably be called this, if you used the regular Kaggle download.\n",
        "!unzip -q /gdrive/MyDrive/ML_project_privateTest/living-thing-classification-coarse-private.zip     # CHANGE DIRECTORY"
      ],
      "metadata": {
        "id": "KcSuYB5ZpyNs"
      },
      "execution_count": null,
      "outputs": []
    },
    {
      "cell_type": "code",
      "source": [
        "from pathlib import Path"
      ],
      "metadata": {
        "id": "YgVHXq74rRIq"
      },
      "execution_count": null,
      "outputs": []
    },
    {
      "cell_type": "code",
      "source": [
        "batch_size = 64\n",
        "img_size = 112\n",
        "fine_grain = False\n",
        "num_classes = 50 if fine_grain else 8\n",
        "\n",
        "root = Path('/content/privtest_coarse')"
      ],
      "metadata": {
        "id": "-3Ft-ICJrK88"
      },
      "execution_count": null,
      "outputs": []
    },
    {
      "cell_type": "code",
      "source": [
        "!ls -alh privtest_coarse"
      ],
      "metadata": {
        "colab": {
          "base_uri": "https://localhost:8080/"
        },
        "id": "OWq4dEeo5bfl",
        "outputId": "7ce2aebc-e45a-4481-ea07-ee34a307b884"
      },
      "execution_count": null,
      "outputs": [
        {
          "output_type": "stream",
          "name": "stdout",
          "text": [
            "total 204K\n",
            "drwxr-xr-x 3 root root 4.0K May 29 08:42 .\n",
            "drwxr-xr-x 1 root root 4.0K May 29 08:42 ..\n",
            "drwxr-xr-x 2 root root 124K May 29 08:42 privtest\n",
            "-rw-r--r-- 1 root root  72K May 27 09:19 privtest_coarse.csv\n"
          ]
        }
      ]
    },
    {
      "cell_type": "code",
      "source": [
        "import tensorflow as tf\n",
        "import pandas as pd\n",
        "import json\n",
        "from pathlib import Path\n",
        "\n",
        "def load_target_names(path='public/info.json'):\n",
        "    with open(path) as f:\n",
        "        info = json.load(f)\n",
        "    return info['fine'], info['coarse']\n",
        "\n",
        "def load_image(file_path, image_size=112):\n",
        "    img = tf.io.read_file(file_path)\n",
        "    img = tf.image.decode_jpeg(img, channels=3)\n",
        "    img = tf.image.convert_image_dtype(img, tf.float32)\n",
        "    img = tf.image.resize(img, [image_size, image_size])\n",
        "    return img\n",
        "\n",
        "root = Path('/content/privtest_coarse')  # Update the root directory path\n",
        "\n",
        "def create_dataset_tf(split, fine_grained, batch_size=32, image_size=112):\n",
        "    df = pd.read_csv(root / f\"{split}.csv\")\n",
        "    file_paths = df.filename.map(lambda fn: str(root / \"privtest\" / fn))\n",
        "    labels = df.fine if fine_grained else df.coarse\n",
        "\n",
        "    dataset = tf.data.Dataset.from_tensor_slices((file_paths, labels))\n",
        "    dataset = dataset.map(lambda x, y: (load_image(x, image_size=image_size), y))\n",
        "    dataset = dataset.batch(batch_size)\n",
        "    dataset = dataset.prefetch(buffer_size=tf.data.AUTOTUNE)\n",
        "    return dataset"
      ],
      "metadata": {
        "id": "HblVtrJqr6vA"
      },
      "execution_count": null,
      "outputs": []
    },
    {
      "cell_type": "code",
      "source": [
        "from tensorflow.keras.models import load_model\n",
        "\n",
        "model = load_model('/gdrive/MyDrive/ML_project_coarse_inceptionv3_model/coarseInception.h5')"
      ],
      "metadata": {
        "id": "T-4BK5xos9ta"
      },
      "execution_count": null,
      "outputs": []
    },
    {
      "cell_type": "code",
      "source": [
        "private_test_ds = create_dataset_tf('privtest_coarse', fine_grained=fine_grain, batch_size=batch_size)"
      ],
      "metadata": {
        "id": "EkAbrdTIsvrO"
      },
      "execution_count": null,
      "outputs": []
    },
    {
      "cell_type": "code",
      "source": [
        "# Predict with the loaded model\n",
        "y_pred_coarse = model.predict(private_test_ds)"
      ],
      "metadata": {
        "colab": {
          "base_uri": "https://localhost:8080/"
        },
        "id": "n_rn4xor3olt",
        "outputId": "a4ab8fb7-afa8-4a4e-fafb-0ea709908d9b"
      },
      "execution_count": null,
      "outputs": [
        {
          "output_type": "stream",
          "name": "stdout",
          "text": [
            "24/24 [==============================] - 51s 2s/step\n"
          ]
        }
      ]
    },
    {
      "cell_type": "code",
      "source": [
        "import pandas as pd\n",
        "import numpy as np\n",
        "y_pred=np.argmax(y_pred_coarse, axis=1)"
      ],
      "metadata": {
        "id": "sEgvjdKI5-R1"
      },
      "execution_count": null,
      "outputs": []
    },
    {
      "cell_type": "code",
      "source": [
        "test_csv = pd.read_csv(root / f\"privtest_coarse.csv\")\n",
        "test_csv['coarse']=y_pred\n",
        "pred_file=\"/gdrive/MyDrive/ML_project_coarse_preds/47541164_deep_coarse.csv\"\n",
        "test_csv.to_csv(pred_file, index=False)\n",
        "print(\"Predictions saved succesfully at %s\" % pred_file)"
      ],
      "metadata": {
        "colab": {
          "base_uri": "https://localhost:8080/"
        },
        "id": "7CDQMtqJs5EU",
        "outputId": "cd6d9afc-1d27-4d27-bf0e-58cd017bbdd9"
      },
      "execution_count": null,
      "outputs": [
        {
          "output_type": "stream",
          "name": "stdout",
          "text": [
            "Predictions saved succesfully at /gdrive/MyDrive/ML_project_coarse_preds/47541164_deep_coarse.csv\n"
          ]
        }
      ]
    },
    {
      "cell_type": "markdown",
      "source": [
        "#Fine section"
      ],
      "metadata": {
        "id": "ghTYbbaR8axT"
      }
    },
    {
      "cell_type": "code",
      "execution_count": null,
      "metadata": {
        "colab": {
          "base_uri": "https://localhost:8080/"
        },
        "outputId": "d619895e-29fa-4c99-bcd5-094367c7b563",
        "id": "T9EGVUk48axT"
      },
      "outputs": [
        {
          "output_type": "stream",
          "name": "stdout",
          "text": [
            "Mounted at /gdrive\n"
          ]
        }
      ],
      "source": [
        "from google.colab import drive\n",
        "drive.mount('/gdrive')"
      ]
    },
    {
      "cell_type": "code",
      "source": [
        "# Your file will probably be called this, if you used the regular Kaggle download.\n",
        "!unzip -q /gdrive/MyDrive/ML_project_privateTest/living-thing-classification-fine-private.zip     # CHANGE DIRECTORY"
      ],
      "metadata": {
        "id": "72xvAmfZ8axU"
      },
      "execution_count": null,
      "outputs": []
    },
    {
      "cell_type": "code",
      "source": [
        "from pathlib import Path"
      ],
      "metadata": {
        "id": "3XqIBOks8axU"
      },
      "execution_count": null,
      "outputs": []
    },
    {
      "cell_type": "code",
      "source": [
        "batch_size = 64\n",
        "img_size = 224\n",
        "fine_grain = True\n",
        "num_classes = 50 if fine_grain else 8\n",
        "\n",
        "root = Path('/content/privtest_fine')"
      ],
      "metadata": {
        "id": "5fXsKesD8axU"
      },
      "execution_count": null,
      "outputs": []
    },
    {
      "cell_type": "code",
      "source": [
        "!ls -alh privtest_fine"
      ],
      "metadata": {
        "colab": {
          "base_uri": "https://localhost:8080/"
        },
        "outputId": "7dc03dad-e855-4324-c9ed-3c1a7ae72d77",
        "id": "NGpOWB6n8axU"
      },
      "execution_count": null,
      "outputs": [
        {
          "output_type": "stream",
          "name": "stdout",
          "text": [
            "total 204K\n",
            "drwxr-xr-x 3 root root 4.0K May 29 10:14 .\n",
            "drwxr-xr-x 1 root root 4.0K May 29 10:14 ..\n",
            "drwxr-xr-x 2 root root 124K May 29 10:14 privtest\n",
            "-rw-r--r-- 1 root root  72K May 27 09:30 privtest_fine.csv\n"
          ]
        }
      ]
    },
    {
      "cell_type": "code",
      "source": [
        "import tensorflow as tf\n",
        "import pandas as pd\n",
        "import json\n",
        "from pathlib import Path\n",
        "\n",
        "def load_target_names(path='public/info.json'):\n",
        "    with open(path) as f:\n",
        "        info = json.load(f)\n",
        "    return info['fine'], info['coarse']\n",
        "\n",
        "def load_image(file_path, image_size=112):\n",
        "    img = tf.io.read_file(file_path)\n",
        "    img = tf.image.decode_jpeg(img, channels=3)\n",
        "    img = tf.image.convert_image_dtype(img, tf.float32)\n",
        "    img = tf.image.resize(img, [image_size, image_size])\n",
        "    return img\n",
        "\n",
        "root = Path('/content/privtest_fine')  # Update the root directory path\n",
        "\n",
        "def create_dataset_tf(split, fine_grained, batch_size=32, image_size=112):\n",
        "    df = pd.read_csv(root / f\"{split}.csv\")\n",
        "    file_paths = df.filename.map(lambda fn: str(root / \"privtest\" / fn))\n",
        "    labels = df.fine if fine_grained else df.coarse\n",
        "\n",
        "    dataset = tf.data.Dataset.from_tensor_slices((file_paths, labels))\n",
        "    dataset = dataset.map(lambda x, y: (load_image(x, image_size=image_size), y))\n",
        "    dataset = dataset.batch(batch_size)\n",
        "    dataset = dataset.prefetch(buffer_size=tf.data.AUTOTUNE)\n",
        "    return dataset"
      ],
      "metadata": {
        "id": "gXT1-0cR8axU"
      },
      "execution_count": null,
      "outputs": []
    },
    {
      "cell_type": "code",
      "source": [
        "from tensorflow.keras.models import load_model\n",
        "\n",
        "model = load_model('/gdrive/MyDrive/ML_project_fine_mobileNet_model/fineMobileNet.h5')"
      ],
      "metadata": {
        "id": "FeqoUsH58axV"
      },
      "execution_count": null,
      "outputs": []
    },
    {
      "cell_type": "code",
      "source": [
        "private_test_ds = create_dataset_tf('privtest_fine', fine_grained=True, batch_size=batch_size, image_size=224)"
      ],
      "metadata": {
        "id": "pvmVoJuQ8axV"
      },
      "execution_count": null,
      "outputs": []
    },
    {
      "cell_type": "code",
      "source": [
        "# Predict with the loaded model\n",
        "y_pred_fine = model.predict(private_test_ds)"
      ],
      "metadata": {
        "colab": {
          "base_uri": "https://localhost:8080/"
        },
        "outputId": "4897cd56-5e6b-46d3-a738-4440c671783c",
        "id": "hFJGDJF08axV"
      },
      "execution_count": null,
      "outputs": [
        {
          "output_type": "stream",
          "name": "stdout",
          "text": [
            "24/24 [==============================] - 48s 2s/step\n"
          ]
        }
      ]
    },
    {
      "cell_type": "code",
      "source": [
        "import pandas as pd\n",
        "import numpy as np\n",
        "y_pred=np.argmax(y_pred_fine, axis=1)"
      ],
      "metadata": {
        "id": "YkFnN7978axV"
      },
      "execution_count": null,
      "outputs": []
    },
    {
      "cell_type": "code",
      "source": [
        "test_csv = pd.read_csv(root / f\"privtest_fine.csv\")\n",
        "test_csv['fine']=y_pred\n",
        "pred_file=\"/gdrive/MyDrive/ML_project_preds/47541164_deep_fine.csv\"\n",
        "test_csv.to_csv(pred_file, index=False)\n",
        "print(\"Predictions saved succesfully at %s\" % pred_file)"
      ],
      "metadata": {
        "colab": {
          "base_uri": "https://localhost:8080/"
        },
        "outputId": "b31ad8f3-9bc8-4c52-8e09-ead0e9aeac30",
        "id": "Xqfte54E8axW"
      },
      "execution_count": null,
      "outputs": [
        {
          "output_type": "stream",
          "name": "stdout",
          "text": [
            "Predictions saved succesfully at /gdrive/MyDrive/ML_project_preds/47541164_deep_fine.csv\n"
          ]
        }
      ]
    },
    {
      "cell_type": "code",
      "source": [],
      "metadata": {
        "id": "BPX2b2EG-ICD"
      },
      "execution_count": null,
      "outputs": []
    }
  ]
}